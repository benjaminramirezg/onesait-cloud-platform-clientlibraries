{
 "cells": [
  {
   "cell_type": "markdown",
   "metadata": {},
   "source": [
    "# Notebook de ejemplo IotBrokerClient\n",
    "En este Notebook se realiza un ejemplo de utilización del objeto IotBrokerClient para comunicarse con el IoT-Broker de la plataforma (consulta e inserción de datos)"
   ]
  },
  {
   "cell_type": "markdown",
   "metadata": {},
   "source": [
    "## Imports"
   ]
  },
  {
   "cell_type": "code",
   "execution_count": 11,
   "metadata": {},
   "outputs": [
    {
     "name": "stdout",
     "output_type": "stream",
     "text": [
      "Imported from onesaitplatform\n"
     ]
    }
   ],
   "source": [
    "import os\n",
    "import sys\n",
    "import time\n",
    "import json\n",
    "import unittest\n",
    "try:\n",
    "    from onesaitplatform.iotbroker.iotbrokerclient import IotBrokerClient\n",
    "    from onesaitplatform.iotbroker.utils import wait\n",
    "    print(\"Imported from onesaitplatform\")\n",
    "except Exception as e:\n",
    "    print(e)\n",
    "    sys.path.insert(0, os.path.dirname(os.path.dirname(os.path.dirname(__file__))))\n",
    "    from iotbrokerconnection import IotBrokerClient\n",
    "    from utils import wait\n",
    "    print(\"Imported from .\")\n"
   ]
  },
  {
   "cell_type": "code",
   "execution_count": 31,
   "metadata": {},
   "outputs": [],
   "source": [
    "HOST = \"www.onesaitplatform.online\"\n",
    "ONTOLOGY = \"Restaurants\"\n",
    "IOT_CLIENT = \"Client4Notebook\"\n",
    "IOT_TOKEN = \"674a6e05348a468787e5af4acdf5b3df\""
   ]
  },
  {
   "cell_type": "markdown",
   "metadata": {},
   "source": [
    "## Create connection"
   ]
  },
  {
   "cell_type": "code",
   "execution_count": 32,
   "metadata": {},
   "outputs": [
    {
     "name": "stdout",
     "output_type": "stream",
     "text": [
      "Client.IotBrokerClient(host=www.onesaitplatform.online, is_connected=False, iot_client=Client4Notebook, iot_clientId=Client4Notebook:PythonClient, iot_client_token=674a6e05348a468787e5af4acdf5b3df, session_key=None)\n"
     ]
    }
   ],
   "source": [
    "osp = IotBrokerClient(\n",
    "                        host = HOST, \n",
    "                        iot_client = IOT_CLIENT,\n",
    "                        iot_client_token = IOT_TOKEN\n",
    "                        )\n",
    "print(osp)"
   ]
  },
  {
   "cell_type": "code",
   "execution_count": 33,
   "metadata": {},
   "outputs": [],
   "source": [
    "osp.debug_mode = True"
   ]
  },
  {
   "cell_type": "code",
   "execution_count": 25,
   "metadata": {},
   "outputs": [
    {
     "name": "stdout",
     "output_type": "stream",
     "text": [
      "[Mon Mar 25 17:54:26 2019] Exported json {'host': 'www.onesaitplatform.online:80', 'is_connected': False, 'iot_client': 'Client4Notebook', 'iot_clientId': 'Client4Notebook:PythonClient', 'iot_client_token': '674a6e05348a468787e5af4acdf5b3df', 'session_key': None, 'debug_mode': True}\n",
      "[Mon Mar 25 17:54:26 2019] Exported json {\"host\": \"www.onesaitplatform.online:80\", \"is_connected\": false, \"iot_client\": \"Client4Notebook\", \"iot_clientId\": \"Client4Notebook:PythonClient\", \"iot_client_token\": \"674a6e05348a468787e5af4acdf5b3df\", \"session_key\": null, \"debug_mode\": true}\n",
      "Client.IotBrokerClient(host=www.onesaitplatform.online:80, is_connected=False, iot_client=Client4Notebook, iot_clientId=Client4Notebook:PythonClient, iot_client_token=674a6e05348a468787e5af4acdf5b3df, session_key=None)\n"
     ]
    }
   ],
   "source": [
    "# La conexións e puede exportar como json-dict/ json-string y crear otro objeto a aprtir de ella\n",
    "# Esto se utiliza para enviar el objeto conexión entre procesos/ programas\n",
    "osp_json = osp.to_json() # as json-dict\n",
    "osp_json = osp.to_json(as_string = True) # as json-string\n",
    "osp2 = IotBrokerClient.from_json(osp_json) # Able to use json-dict or json-string\n",
    "print(osp2)"
   ]
  },
  {
   "cell_type": "code",
   "execution_count": 34,
   "metadata": {},
   "outputs": [],
   "source": [
    "# El protocolo se puede modificar\n",
    "osp.protocol = \"http\"\n",
    "# El iotClientId tambien se puede cambiar (se recomienda iotclient + :Identificador)\n",
    "#osp.iotClientId = osp.iotClient + \":Orange3_usuario\" (== osp.iotClientId + \"_usuario\")"
   ]
  },
  {
   "cell_type": "markdown",
   "metadata": {},
   "source": [
    "## Secure open"
   ]
  },
  {
   "cell_type": "code",
   "execution_count": 27,
   "metadata": {},
   "outputs": [
    {
     "name": "stdout",
     "output_type": "stream",
     "text": [
      "Client.IotBrokerClient(host=www.onesaitplatform.online:80, is_connected=False, iot_client=Client4Notebook, iot_clientId=Client4Notebook:PythonClient, iot_client_token=674a6e05348a468787e5af4acdf5b3df, session_key=None)\n"
     ]
    }
   ],
   "source": [
    "with IotBrokerClient(host = HOST, iot_client = IOT_CLIENT, iot_client_token = IOT_TOKEN) as client:\n",
    "    print(client)"
   ]
  },
  {
   "cell_type": "markdown",
   "metadata": {},
   "source": [
    "## Login in the platform"
   ]
  },
  {
   "cell_type": "code",
   "execution_count": 35,
   "metadata": {},
   "outputs": [
    {
     "name": "stdout",
     "output_type": "stream",
     "text": [
      "[Mon Mar 25 17:56:50 2019] Calling rest api, method:GET, url:http://www.onesaitplatform.online/iot-broker/rest/client/join, headers:{'Accept': 'application/json', 'Content-type': 'application/json'}, params:{'token': '674a6e05348a468787e5af4acdf5b3df', 'clientPlatform': 'Client4Notebook', 'clientPlatformId': 'Client4Notebook:PythonClient'}\n",
      "[Mon Mar 25 17:56:56 2019] Call rest api response: <Response [200]>\n",
      "[Mon Mar 25 17:56:56 2019] Logged correctly with session_key: {\"sessionKey\":\"3d6756c7-17a0-4aa0-8140-4a5a153b2736\"}\n"
     ]
    },
    {
     "data": {
      "text/plain": [
       "(True, {'sessionKey': '3d6756c7-17a0-4aa0-8140-4a5a153b2736'})"
      ]
     },
     "execution_count": 35,
     "metadata": {},
     "output_type": "execute_result"
    }
   ],
   "source": [
    "is_con, msg_con = osp.join()\n",
    "is_con, msg_con"
   ]
  },
  {
   "cell_type": "code",
   "execution_count": 36,
   "metadata": {},
   "outputs": [
    {
     "name": "stdout",
     "output_type": "stream",
     "text": [
      "Client.IotBrokerClient(host=www.onesaitplatform.online, is_connected=True, iot_client=Client4Notebook, iot_clientId=Client4Notebook:PythonClient, iot_client_token=674a6e05348a468787e5af4acdf5b3df, session_key=3d6756c7-17a0-4aa0-8140-4a5a153b2736, debug_mode=True, protocol=http)\n"
     ]
    }
   ],
   "source": [
    "print(osp)"
   ]
  },
  {
   "cell_type": "markdown",
   "metadata": {},
   "source": [
    "## Restart connection"
   ]
  },
  {
   "cell_type": "code",
   "execution_count": 7,
   "metadata": {},
   "outputs": [
    {
     "name": "stdout",
     "output_type": "stream",
     "text": [
      "[Mon Mar 25 17:47:05 2019] There is not connection, please join() before leave()\n",
      "[Mon Mar 25 17:47:05 2019] Calling rest api, method:GET, url:https://www.onesaitplatform.online/iot-broker/rest/client/join, headers:{'Accept': 'application/json', 'Content-type': 'application/json'}, params:{'token': '674a6e05348a468787e5af4acdf5b3df', 'clientPlatform': 'Client4Notebook', 'clientPlatformId': 'Client4Notebook:PythonClient'}\n",
      "[Mon Mar 25 17:47:05 2019] Not possible to restart connexion with iot-broker\n"
     ]
    },
    {
     "data": {
      "text/plain": [
       "(False, None)"
      ]
     },
     "execution_count": 7,
     "metadata": {},
     "output_type": "execute_result"
    }
   ],
   "source": [
    "osp.restart()"
   ]
  },
  {
   "cell_type": "code",
   "execution_count": 8,
   "metadata": {},
   "outputs": [
    {
     "name": "stdout",
     "output_type": "stream",
     "text": [
      "Client.IotBrokerClient(host=www.onesaitplatform.online, is_connected=False, iot_client=Client4Notebook, iot_clientId=Client4Notebook:PythonClient, iot_client_token=674a6e05348a468787e5af4acdf5b3df, session_key=None, debug_mode=True)\n"
     ]
    }
   ],
   "source": [
    "print(osp)"
   ]
  },
  {
   "cell_type": "markdown",
   "metadata": {},
   "source": [
    "## Query to platform"
   ]
  },
  {
   "cell_type": "code",
   "execution_count": 37,
   "metadata": {
    "scrolled": true
   },
   "outputs": [
    {
     "name": "stdout",
     "output_type": "stream",
     "text": [
      "[Mon Mar 25 17:57:02 2019] Calling rest api, method:GET, url:http://www.onesaitplatform.online/iot-broker/rest/ontology/Restaurants, headers:{'Authorization': '3d6756c7-17a0-4aa0-8140-4a5a153b2736'}, params:{'query': 'select c from Restaurants as c limit 3', 'queryType': 'SQL'}\n",
      "[Mon Mar 25 17:57:07 2019] Call rest api response: <Response [200]>\n",
      "[Mon Mar 25 17:57:07 2019] Response: 200 - [{\"Restaurant\":{\"address\":{\"building\":\"351\",\"coord\":[-73.98513559999999,40.7676919],\"street\":\"West   57 Street\",\"zipcode\":\"10019\"},\"borough\":\"Manhattan\",\"cuisine\":\"Irish\",\"grades\":[{\"date\":\"2014-09-06T00:00:00Z\",\"grade\":\"A\",\"score\":2},{\"date\":\"2013-07-22T00:00:00Z\",\"grade\":\"A\",\"score\":11},{\"date\":\"2012-07-31T00:00:00Z\",\"grade\":\"A\",\"score\":12},{\"date\":\"2011-12-29T00:00:00Z\",\"grade\":\"A\",\"score\":12}],\"name\":\"Dj Reynolds Pub And Restaurant\",\"restaurant_id\":\"30191841\"}},{\"Restaurant\":{\"address\":{\"building\":\"2780\",\"coord\":[-73.98241999999999,40.579505],\"street\":\"Stillwell Avenue\",\"zipcode\":\"11224\"},\"borough\":\"Brooklyn\",\"cuisine\":\"American\",\"grades\":[{\"date\":\"2014-06-10T00:00:00Z\",\"grade\":\"A\",\"score\":5},{\"date\":\"2013-06-05T00:00:00Z\",\"grade\":\"A\",\"score\":7},{\"date\":\"2012-04-13T00:00:00Z\",\"grade\":\"A\",\"score\":12},{\"date\":\"2011-10-12T00:00:00Z\",\"grade\":\"A\",\"score\":12}],\"name\":\"Riviera Caterer\",\"restaurant_id\":\"40356018\"}},{\"Restaurant\":{\"address\":{\"building\":\"97-22\",\"coord\":[-73.8601152,40.7311739],\"street\":\"63 Road\",\"zipcode\":\"11374\"},\"borough\":\"Queens\",\"cuisine\":\"Jewish/Kosher\",\"grades\":[{\"date\":\"2014-11-24T00:00:00Z\",\"grade\":\"Z\",\"score\":20},{\"date\":\"2013-01-17T00:00:00Z\",\"grade\":\"A\",\"score\":13},{\"date\":\"2012-08-02T00:00:00Z\",\"grade\":\"A\",\"score\":13},{\"date\":\"2011-12-15T00:00:00Z\",\"grade\":\"B\",\"score\":25}],\"name\":\"Tov Kosher Kitchen\",\"restaurant_id\":\"40356068\"}}]\n",
      "[Mon Mar 25 17:57:07 2019] Query result: [{\"Restaurant\":{\"address\":{\"building\":\"351\",\"coord\":[-73.98513559999999,40.7676919],\"street\":\"West   57 Street\",\"zipcode\":\"10019\"},\"borough\":\"Manhattan\",\"cuisine\":\"Irish\",\"grades\":[{\"date\":\"2014-09-06T00:00:00Z\",\"grade\":\"A\",\"score\":2},{\"date\":\"2013-07-22T00:00:00Z\",\"grade\":\"A\",\"score\":11},{\"date\":\"2012-07-31T00:00:00Z\",\"grade\":\"A\",\"score\":12},{\"date\":\"2011-12-29T00:00:00Z\",\"grade\":\"A\",\"score\":12}],\"name\":\"Dj Reynolds Pub And Restaurant\",\"restaurant_id\":\"30191841\"}},{\"Restaurant\":{\"address\":{\"building\":\"2780\",\"coord\":[-73.98241999999999,40.579505],\"street\":\"Stillwell Avenue\",\"zipcode\":\"11224\"},\"borough\":\"Brooklyn\",\"cuisine\":\"American\",\"grades\":[{\"date\":\"2014-06-10T00:00:00Z\",\"grade\":\"A\",\"score\":5},{\"date\":\"2013-06-05T00:00:00Z\",\"grade\":\"A\",\"score\":7},{\"date\":\"2012-04-13T00:00:00Z\",\"grade\":\"A\",\"score\":12},{\"date\":\"2011-10-12T00:00:00Z\",\"grade\":\"A\",\"score\":12}],\"name\":\"Riviera Caterer\",\"restaurant_id\":\"40356018\"}},{\"Restaurant\":{\"address\":{\"building\":\"97-22\",\"coord\":[-73.8601152,40.7311739],\"street\":\"63 Road\",\"zipcode\":\"11374\"},\"borough\":\"Queens\",\"cuisine\":\"Jewish/Kosher\",\"grades\":[{\"date\":\"2014-11-24T00:00:00Z\",\"grade\":\"Z\",\"score\":20},{\"date\":\"2013-01-17T00:00:00Z\",\"grade\":\"A\",\"score\":13},{\"date\":\"2012-08-02T00:00:00Z\",\"grade\":\"A\",\"score\":13},{\"date\":\"2011-12-15T00:00:00Z\",\"grade\":\"B\",\"score\":25}],\"name\":\"Tov Kosher Kitchen\",\"restaurant_id\":\"40356068\"}}]\n",
      "Fake restaurant\n"
     ]
    },
    {
     "data": {
      "text/plain": [
       "(True,\n",
       " [{'Restaurant': {'address': {'building': '351',\n",
       "     'coord': [-73.98513559999999, 40.7676919],\n",
       "     'street': 'West   57 Street',\n",
       "     'zipcode': '10019'},\n",
       "    'borough': 'Manhattan',\n",
       "    'cuisine': 'Irish',\n",
       "    'grades': [{'date': '2014-09-06T00:00:00Z', 'grade': 'A', 'score': 2},\n",
       "     {'date': '2013-07-22T00:00:00Z', 'grade': 'A', 'score': 11},\n",
       "     {'date': '2012-07-31T00:00:00Z', 'grade': 'A', 'score': 12},\n",
       "     {'date': '2011-12-29T00:00:00Z', 'grade': 'A', 'score': 12}],\n",
       "    'name': 'Dj Reynolds Pub And Restaurant',\n",
       "    'restaurant_id': '30191841'},\n",
       "   'name': 'Fake restaurant'},\n",
       "  {'Restaurant': {'address': {'building': '2780',\n",
       "     'coord': [-73.98241999999999, 40.579505],\n",
       "     'street': 'Stillwell Avenue',\n",
       "     'zipcode': '11224'},\n",
       "    'borough': 'Brooklyn',\n",
       "    'cuisine': 'American',\n",
       "    'grades': [{'date': '2014-06-10T00:00:00Z', 'grade': 'A', 'score': 5},\n",
       "     {'date': '2013-06-05T00:00:00Z', 'grade': 'A', 'score': 7},\n",
       "     {'date': '2012-04-13T00:00:00Z', 'grade': 'A', 'score': 12},\n",
       "     {'date': '2011-10-12T00:00:00Z', 'grade': 'A', 'score': 12}],\n",
       "    'name': 'Riviera Caterer',\n",
       "    'restaurant_id': '40356018'}},\n",
       "  {'Restaurant': {'address': {'building': '97-22',\n",
       "     'coord': [-73.8601152, 40.7311739],\n",
       "     'street': '63 Road',\n",
       "     'zipcode': '11374'},\n",
       "    'borough': 'Queens',\n",
       "    'cuisine': 'Jewish/Kosher',\n",
       "    'grades': [{'date': '2014-11-24T00:00:00Z', 'grade': 'Z', 'score': 20},\n",
       "     {'date': '2013-01-17T00:00:00Z', 'grade': 'A', 'score': 13},\n",
       "     {'date': '2012-08-02T00:00:00Z', 'grade': 'A', 'score': 13},\n",
       "     {'date': '2011-12-15T00:00:00Z', 'grade': 'B', 'score': 25}],\n",
       "    'name': 'Tov Kosher Kitchen',\n",
       "    'restaurant_id': '40356068'}}])"
      ]
     },
     "execution_count": 37,
     "metadata": {},
     "output_type": "execute_result"
    }
   ],
   "source": [
    "ontology = ONTOLOGY\n",
    "to_query = \"select c from Restaurants as c limit 3\"\n",
    "query_type = \"SQL\"\n",
    "is_query, res_query = osp.query(ontology, to_query, query_type)\n",
    "fake_restaurant = res_query[0]\n",
    "fake_restaurant[\"name\"] = \"Fake restaurant\"\n",
    "print(fake_restaurant[\"name\"])\n",
    "is_query, res_query"
   ]
  },
  {
   "cell_type": "markdown",
   "metadata": {},
   "source": [
    "## Insert in the platform"
   ]
  },
  {
   "cell_type": "code",
   "execution_count": 10,
   "metadata": {},
   "outputs": [
    {
     "name": "stdout",
     "output_type": "stream",
     "text": [
      "Client.IotBrokerClient(host=development.onesaitplatform.com, is_connected=True, iot_client=Client4Notebook, iot_clientId=Client4Notebook:PythonClient, iot_client_token=6fcf0a3503004e619e41957172ef3d24, session_key=6f0f1b6b-594e-4588-8ee1-b3480065b009, debug_mode=True, protocol=https)\n",
      "{'Restaurant': {'address': {'building': '351', 'coord': [-73.98513559999999, 40.7676919], 'street': 'West   57 Street', 'zipcode': '10019'}, 'borough': 'Manhattan', 'cuisine': 'Irish', 'grades': [{'date': '2014-09-06T00:00:00Z', 'grade': 'A', 'score': 2}, {'date': '2013-07-22T00:00:00Z', 'grade': 'A', 'score': 11}, {'date': '2012-07-31T00:00:00Z', 'grade': 'A', 'score': 12}, {'date': '2011-12-29T00:00:00Z', 'grade': 'A', 'score': 12}], 'name': 'Dj Reynolds Pub And Restaurant', 'restaurant_id': '30191841'}, 'name': 'Fake restaurant'}\n"
     ]
    }
   ],
   "source": [
    "print(osp)\n",
    "print(fake_restaurant)\n",
    "osp.session_key = \"03844110-3e87-4f22-9a50-a4b692eab704\""
   ]
  },
  {
   "cell_type": "code",
   "execution_count": 11,
   "metadata": {},
   "outputs": [
    {
     "name": "stdout",
     "output_type": "stream",
     "text": [
      "[Mon Mar 25 10:56:07 2019] Calling rest api, method:POST, url:https://development.onesaitplatform.com/iot-broker/rest/ontology/Restaurant, headers:{'Authorization': '03844110-3e87-4f22-9a50-a4b692eab704'}, params:\n",
      "[Mon Mar 25 10:56:07 2019] Call rest api response: <Response [200]>\n",
      "[Mon Mar 25 10:56:07 2019] Query result: {\"id\":\"5c98a5b7d93a0a000b52f230\"}\n"
     ]
    },
    {
     "data": {
      "text/plain": [
       "(True, {'id': '5c98a5b7d93a0a000b52f230'})"
      ]
     },
     "execution_count": 11,
     "metadata": {},
     "output_type": "execute_result"
    }
   ],
   "source": [
    "data = [fake_restaurant]\n",
    "ONTOLOGY = \"Restaurant\"\n",
    "is_inserted, res_inserted = osp.insert(ONTOLOGY, data)\n",
    "is_inserted, res_inserted"
   ]
  },
  {
   "cell_type": "code",
   "execution_count": 12,
   "metadata": {},
   "outputs": [
    {
     "name": "stdout",
     "output_type": "stream",
     "text": [
      "[Mon Mar 25 10:55:10 2019] Created connection with iot-broker host:development.onesaitplatform.com, path:/iot-broker, client:Client4Notebook, token:6fcf0a3503004e619e41957172ef3d24\n",
      "[Mon Mar 25 10:55:16 2019] Calling rest api, method:GET, url:https://development.onesaitplatform.com/iot-broker/rest/client/join, headers:{'Accept': 'application/json', 'Content-type': 'application/json'}, params:{'token': '6fcf0a3503004e619e41957172ef3d24', 'clientPlatform': 'Client4Notebook', 'clientPlatformId': 'Client4Notebook:PythonClient'}\n",
      "[Mon Mar 25 10:55:16 2019] Call rest api response: <Response [200]>\n",
      "[Mon Mar 25 10:55:16 2019] Logged correctly with session_key: {\"sessionKey\":\"03844110-3e87-4f22-9a50-a4b692eab704\"}\n",
      "[Mon Mar 25 10:55:19 2019] Calling rest api, method:GET, url:https://development.onesaitplatform.com/iot-broker/rest/ontology/Restaurants, headers:{'Authorization': '03844110-3e87-4f22-9a50-a4b692eab704'}, params:{'query': 'select c from Restaurants as c limit 3', 'queryType': 'SQL'}\n",
      "[Mon Mar 25 10:55:20 2019] Call rest api response: <Response [200]>\n",
      "[Mon Mar 25 10:55:20 2019] Response: 200 - [{\"Restaurant\":{\"address\":{\"building\":\"351\",\"coord\":[-73.98513559999999,40.7676919],\"street\":\"West   57 Street\",\"zipcode\":\"10019\"},\"borough\":\"Manhattan\",\"cuisine\":\"Irish\",\"grades\":[{\"date\":\"2014-09-06T00:00:00Z\",\"grade\":\"A\",\"score\":2},{\"date\":\"2013-07-22T00:00:00Z\",\"grade\":\"A\",\"score\":11},{\"date\":\"2012-07-31T00:00:00Z\",\"grade\":\"A\",\"score\":12},{\"date\":\"2011-12-29T00:00:00Z\",\"grade\":\"A\",\"score\":12}],\"name\":\"Dj Reynolds Pub And Restaurant\",\"restaurant_id\":\"30191841\"}},{\"Restaurant\":{\"address\":{\"building\":\"2780\",\"coord\":[-73.98241999999999,40.579505],\"street\":\"Stillwell Avenue\",\"zipcode\":\"11224\"},\"borough\":\"Brooklyn\",\"cuisine\":\"American\",\"grades\":[{\"date\":\"2014-06-10T00:00:00Z\",\"grade\":\"A\",\"score\":5},{\"date\":\"2013-06-05T00:00:00Z\",\"grade\":\"A\",\"score\":7},{\"date\":\"2012-04-13T00:00:00Z\",\"grade\":\"A\",\"score\":12},{\"date\":\"2011-10-12T00:00:00Z\",\"grade\":\"A\",\"score\":12}],\"name\":\"Riviera Caterer\",\"restaurant_id\":\"40356018\"}},{\"Restaurant\":{\"address\":{\"building\":\"97-22\",\"coord\":[-73.8601152,40.7311739],\"street\":\"63 Road\",\"zipcode\":\"11374\"},\"borough\":\"Queens\",\"cuisine\":\"Jewish/Kosher\",\"grades\":[{\"date\":\"2014-11-24T00:00:00Z\",\"grade\":\"Z\",\"score\":20},{\"date\":\"2013-01-17T00:00:00Z\",\"grade\":\"A\",\"score\":13},{\"date\":\"2012-08-02T00:00:00Z\",\"grade\":\"A\",\"score\":13},{\"date\":\"2011-12-15T00:00:00Z\",\"grade\":\"B\",\"score\":25}],\"name\":\"Tov Kosher Kitchen\",\"restaurant_id\":\"40356068\"}}]\n",
      "[Mon Mar 25 10:55:20 2019] Query result: [{\"Restaurant\":{\"address\":{\"building\":\"351\",\"coord\":[-73.98513559999999,40.7676919],\"street\":\"West   57 Street\",\"zipcode\":\"10019\"},\"borough\":\"Manhattan\",\"cuisine\":\"Irish\",\"grades\":[{\"date\":\"2014-09-06T00:00:00Z\",\"grade\":\"A\",\"score\":2},{\"date\":\"2013-07-22T00:00:00Z\",\"grade\":\"A\",\"score\":11},{\"date\":\"2012-07-31T00:00:00Z\",\"grade\":\"A\",\"score\":12},{\"date\":\"2011-12-29T00:00:00Z\",\"grade\":\"A\",\"score\":12}],\"name\":\"Dj Reynolds Pub And Restaurant\",\"restaurant_id\":\"30191841\"}},{\"Restaurant\":{\"address\":{\"building\":\"2780\",\"coord\":[-73.98241999999999,40.579505],\"street\":\"Stillwell Avenue\",\"zipcode\":\"11224\"},\"borough\":\"Brooklyn\",\"cuisine\":\"American\",\"grades\":[{\"date\":\"2014-06-10T00:00:00Z\",\"grade\":\"A\",\"score\":5},{\"date\":\"2013-06-05T00:00:00Z\",\"grade\":\"A\",\"score\":7},{\"date\":\"2012-04-13T00:00:00Z\",\"grade\":\"A\",\"score\":12},{\"date\":\"2011-10-12T00:00:00Z\",\"grade\":\"A\",\"score\":12}],\"name\":\"Riviera Caterer\",\"restaurant_id\":\"40356018\"}},{\"Restaurant\":{\"address\":{\"building\":\"97-22\",\"coord\":[-73.8601152,40.7311739],\"street\":\"63 Road\",\"zipcode\":\"11374\"},\"borough\":\"Queens\",\"cuisine\":\"Jewish/Kosher\",\"grades\":[{\"date\":\"2014-11-24T00:00:00Z\",\"grade\":\"Z\",\"score\":20},{\"date\":\"2013-01-17T00:00:00Z\",\"grade\":\"A\",\"score\":13},{\"date\":\"2012-08-02T00:00:00Z\",\"grade\":\"A\",\"score\":13},{\"date\":\"2011-12-15T00:00:00Z\",\"grade\":\"B\",\"score\":25}],\"name\":\"Tov Kosher Kitchen\",\"restaurant_id\":\"40356068\"}}]\n",
      "[Mon Mar 25 10:56:07 2019] Calling rest api, method:POST, url:https://development.onesaitplatform.com/iot-broker/rest/ontology/Restaurant, headers:{'Authorization': '03844110-3e87-4f22-9a50-a4b692eab704'}, params:\n",
      "[Mon Mar 25 10:56:07 2019] Call rest api response: <Response [200]>\n",
      "[Mon Mar 25 10:56:07 2019] Query result: {\"id\":\"5c98a5b7d93a0a000b52f230\"}\n"
     ]
    }
   ],
   "source": [
    "for i in osp.debug_trace:\n",
    "    print(i)"
   ]
  },
  {
   "cell_type": "markdown",
   "metadata": {},
   "source": [
    "## Close conenction"
   ]
  },
  {
   "cell_type": "code",
   "execution_count": 13,
   "metadata": {},
   "outputs": [
    {
     "name": "stdout",
     "output_type": "stream",
     "text": [
      "[Mon Mar 25 10:57:56 2019] Calling rest api, method:GET, url:https://development.onesaitplatform.com/iot-broker/rest/client/leave, headers:{'Authorization': '03844110-3e87-4f22-9a50-a4b692eab704'}, params:\n",
      "[Mon Mar 25 10:57:57 2019] Call rest api response: <Response [200]>\n",
      "[Mon Mar 25 10:57:57 2019] Disconnected correctly: {\"message\":\"Disconnected\"}\n"
     ]
    },
    {
     "data": {
      "text/plain": [
       "(True, {'message': 'Disconnected'})"
      ]
     },
     "execution_count": 13,
     "metadata": {},
     "output_type": "execute_result"
    }
   ],
   "source": [
    "is_leaved, res_levaed = osp.leave()\n",
    "is_leaved, res_levaed"
   ]
  },
  {
   "cell_type": "code",
   "execution_count": 14,
   "metadata": {},
   "outputs": [
    {
     "name": "stdout",
     "output_type": "stream",
     "text": [
      "Client.IotBrokerClient(host=development.onesaitplatform.com, is_connected=False, iot_client=Client4Notebook, iot_clientId=Client4Notebook:PythonClient, iot_client_token=6fcf0a3503004e619e41957172ef3d24, session_key=None, debug_mode=True, protocol=https)\n"
     ]
    }
   ],
   "source": [
    "print(osp)"
   ]
  }
 ],
 "metadata": {
  "kernelspec": {
   "display_name": "Python 3",
   "language": "python",
   "name": "python3"
  },
  "language_info": {
   "codemirror_mode": {
    "name": "ipython",
    "version": 3
   },
   "file_extension": ".py",
   "mimetype": "text/x-python",
   "name": "python",
   "nbconvert_exporter": "python",
   "pygments_lexer": "ipython3",
   "version": "3.7.1"
  }
 },
 "nbformat": 4,
 "nbformat_minor": 2
}
