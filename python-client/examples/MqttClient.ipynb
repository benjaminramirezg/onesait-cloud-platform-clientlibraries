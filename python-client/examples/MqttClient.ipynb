{
 "cells": [
  {
   "cell_type": "markdown",
   "metadata": {},
   "source": [
    "Warning! This tutorial may be deprecated"
   ]
  },
  {
   "cell_type": "code",
   "execution_count": 1,
   "metadata": {},
   "outputs": [],
   "source": [
    "from onesaitplatform.mqttclient import Client\n",
    "import json"
   ]
  },
  {
   "cell_type": "code",
   "execution_count": 3,
   "metadata": {
    "collapsed": true
   },
   "outputs": [
    {
     "name": "stdout",
     "output_type": "stream",
     "text": [
      "{'messageId': None, 'sessionKey': None, 'direction': 'ERROR', 'messageType': None, 'body': {'@type': 'SSAPBodyReturnMessage', 'ok': False, 'error': 'Request message is not parseableUnrecognized field \"clientPlatform\" (class com.minsait.onesait.platform.comms.protocol.body.SSAPBodyJoinMessage), not marked as ignorable (5 known properties: \"deviceTemplate\", \"token\", \"device\", \"tags\", \"deviceConfiguration\"])\\n at [Source: {\"sessionKey\": null, \"messageId\": \"ae6c4d8d659b4b16a968f35af731fcb4\", \"direction\": \"REQUEST\", \"messageType\": \"JOIN\", \"body\": {\"@type\": \"SSAPBodyJoinMessage\", \"token\": \"674a6e05348a468787e5af4acdf5b3df\", \"clientPlatform\": \"Client4Notebook\", \"clientPlatformInstance\": \"Client4Notebook_mqtt\", \"sessionKeyMandatory\": false, \"ontologyMandatory\": false}}; line: 1, column: 223] (through reference chain: com.minsait.onesait.platform.comms.protocol.SSAPMessage[\"body\"]->com.minsait.onesait.platform.comms.protocol.body.SSAPBodyJoinMessage[\"clientPlatform\"])', 'errorCode': 'PROCESSOR', 'data': None}}\n"
     ]
    },
    {
     "ename": "Sofia2Error",
     "evalue": "('CONNECTION', 'No Response Received')",
     "output_type": "error",
     "traceback": [
      "\u001b[1;31m---------------------------------------------------------------------------\u001b[0m",
      "\u001b[1;31mSofia2Error\u001b[0m                               Traceback (most recent call last)",
      "\u001b[1;32m<ipython-input-3-31a83fba3aae>\u001b[0m in \u001b[0;36m<module>\u001b[1;34m\u001b[0m\n\u001b[0;32m     14\u001b[0m \u001b[0mclient\u001b[0m \u001b[1;33m=\u001b[0m \u001b[0mClient\u001b[0m\u001b[1;33m(\u001b[0m\u001b[0mhost\u001b[0m\u001b[1;33m,\u001b[0m \u001b[0mplatform\u001b[0m\u001b[1;33m=\u001b[0m\u001b[0mclient_platform\u001b[0m\u001b[1;33m,\u001b[0m \u001b[0minstance\u001b[0m\u001b[1;33m=\u001b[0m\u001b[0mclient_id\u001b[0m\u001b[1;33m,\u001b[0m \u001b[0mtoken\u001b[0m\u001b[1;33m=\u001b[0m\u001b[0mtoken\u001b[0m\u001b[1;33m)\u001b[0m\u001b[1;33m\u001b[0m\u001b[1;33m\u001b[0m\u001b[0m\n\u001b[0;32m     15\u001b[0m \u001b[1;33m\u001b[0m\u001b[0m\n\u001b[1;32m---> 16\u001b[1;33m \u001b[0mclient\u001b[0m\u001b[1;33m.\u001b[0m\u001b[0mconnect\u001b[0m\u001b[1;33m(\u001b[0m\u001b[1;33m)\u001b[0m\u001b[1;33m\u001b[0m\u001b[1;33m\u001b[0m\u001b[0m\n\u001b[0m\u001b[0;32m     17\u001b[0m \u001b[1;33m\u001b[0m\u001b[0m\n\u001b[0;32m     18\u001b[0m \u001b[1;31m# QUERY\u001b[0m\u001b[1;33m\u001b[0m\u001b[1;33m\u001b[0m\u001b[1;33m\u001b[0m\u001b[0m\n",
      "\u001b[1;32m~\\AppData\\Local\\Continuum\\anaconda3\\lib\\site-packages\\onesaitplatform\\mqttclient\\core.py\u001b[0m in \u001b[0;36mconnect\u001b[1;34m(self)\u001b[0m\n\u001b[0;32m     35\u001b[0m         \u001b[0mself\u001b[0m\u001b[1;33m.\u001b[0m\u001b[0m_client\u001b[0m\u001b[1;33m.\u001b[0m\u001b[0mloop_start\u001b[0m\u001b[1;33m(\u001b[0m\u001b[1;33m)\u001b[0m\u001b[1;33m\u001b[0m\u001b[1;33m\u001b[0m\u001b[0m\n\u001b[0;32m     36\u001b[0m         \u001b[0mself\u001b[0m\u001b[1;33m.\u001b[0m\u001b[0m_conected_event\u001b[0m\u001b[1;33m.\u001b[0m\u001b[0mwait\u001b[0m\u001b[1;33m(\u001b[0m\u001b[1;33m)\u001b[0m\u001b[1;33m\u001b[0m\u001b[1;33m\u001b[0m\u001b[0m\n\u001b[1;32m---> 37\u001b[1;33m         \u001b[0mself\u001b[0m\u001b[1;33m.\u001b[0m\u001b[0mjoin\u001b[0m\u001b[1;33m(\u001b[0m\u001b[1;33m)\u001b[0m\u001b[1;33m\u001b[0m\u001b[1;33m\u001b[0m\u001b[0m\n\u001b[0m\u001b[0;32m     38\u001b[0m \u001b[1;33m\u001b[0m\u001b[0m\n\u001b[0;32m     39\u001b[0m     \u001b[1;32mdef\u001b[0m \u001b[0mdisconnect\u001b[0m\u001b[1;33m(\u001b[0m\u001b[0mself\u001b[0m\u001b[1;33m)\u001b[0m\u001b[1;33m:\u001b[0m\u001b[1;33m\u001b[0m\u001b[1;33m\u001b[0m\u001b[0m\n",
      "\u001b[1;32m~\\AppData\\Local\\Continuum\\anaconda3\\lib\\site-packages\\onesaitplatform\\mqttclient\\core.py\u001b[0m in \u001b[0;36mjoin\u001b[1;34m(self)\u001b[0m\n\u001b[0;32m     53\u001b[0m         }\n\u001b[0;32m     54\u001b[0m         \u001b[0mret\u001b[0m \u001b[1;33m=\u001b[0m \u001b[0mself\u001b[0m\u001b[1;33m.\u001b[0m\u001b[0m_send_msg\u001b[0m\u001b[1;33m(\u001b[0m\u001b[1;34m\"JOIN\"\u001b[0m\u001b[1;33m,\u001b[0m \u001b[0mmsg\u001b[0m\u001b[1;33m)\u001b[0m\u001b[1;33m\u001b[0m\u001b[1;33m\u001b[0m\u001b[0m\n\u001b[1;32m---> 55\u001b[1;33m         \u001b[0mself\u001b[0m\u001b[1;33m.\u001b[0m\u001b[0m_session_key\u001b[0m \u001b[1;33m=\u001b[0m \u001b[0mret\u001b[0m\u001b[1;33m.\u001b[0m\u001b[0mresult\u001b[0m\u001b[1;33m[\u001b[0m\u001b[1;34m'sessionKey'\u001b[0m\u001b[1;33m]\u001b[0m\u001b[1;33m\u001b[0m\u001b[1;33m\u001b[0m\u001b[0m\n\u001b[0m\u001b[0;32m     56\u001b[0m \u001b[1;33m\u001b[0m\u001b[0m\n\u001b[0;32m     57\u001b[0m     \u001b[1;32mdef\u001b[0m \u001b[0mleave\u001b[0m\u001b[1;33m(\u001b[0m\u001b[0mself\u001b[0m\u001b[1;33m)\u001b[0m\u001b[1;33m:\u001b[0m\u001b[1;33m\u001b[0m\u001b[1;33m\u001b[0m\u001b[0m\n",
      "\u001b[1;32m~\\AppData\\Local\\Continuum\\anaconda3\\lib\\site-packages\\onesaitplatform\\mqttclient\\utils.py\u001b[0m in \u001b[0;36mresult\u001b[1;34m(self)\u001b[0m\n\u001b[0;32m     12\u001b[0m         \u001b[0mreceived\u001b[0m \u001b[1;33m=\u001b[0m \u001b[0mself\u001b[0m\u001b[1;33m.\u001b[0m\u001b[0m_ready\u001b[0m\u001b[1;33m.\u001b[0m\u001b[0mwait\u001b[0m\u001b[1;33m(\u001b[0m\u001b[0mtimeout\u001b[0m\u001b[1;33m=\u001b[0m\u001b[0mself\u001b[0m\u001b[1;33m.\u001b[0m\u001b[0m_timeout\u001b[0m\u001b[1;33m)\u001b[0m\u001b[1;33m\u001b[0m\u001b[1;33m\u001b[0m\u001b[0m\n\u001b[0;32m     13\u001b[0m         \u001b[1;32mif\u001b[0m \u001b[1;32mnot\u001b[0m \u001b[0mreceived\u001b[0m\u001b[1;33m:\u001b[0m\u001b[1;33m\u001b[0m\u001b[1;33m\u001b[0m\u001b[0m\n\u001b[1;32m---> 14\u001b[1;33m             \u001b[1;32mraise\u001b[0m \u001b[0mSofia2Error\u001b[0m\u001b[1;33m(\u001b[0m\u001b[1;34m\"CONNECTION\"\u001b[0m\u001b[1;33m,\u001b[0m \u001b[1;34m\"No Response Received\"\u001b[0m\u001b[1;33m)\u001b[0m\u001b[1;33m\u001b[0m\u001b[1;33m\u001b[0m\u001b[0m\n\u001b[0m\u001b[0;32m     15\u001b[0m         \u001b[1;32mif\u001b[0m \u001b[1;32mnot\u001b[0m \u001b[0mself\u001b[0m\u001b[1;33m.\u001b[0m\u001b[0m_response\u001b[0m\u001b[1;33m[\u001b[0m\u001b[1;34m'ok'\u001b[0m\u001b[1;33m]\u001b[0m\u001b[1;33m:\u001b[0m\u001b[1;33m\u001b[0m\u001b[1;33m\u001b[0m\u001b[0m\n\u001b[0;32m     16\u001b[0m             \u001b[1;32mraise\u001b[0m \u001b[0mSofia2Error\u001b[0m\u001b[1;33m(\u001b[0m\u001b[0mself\u001b[0m\u001b[1;33m.\u001b[0m\u001b[0m_response\u001b[0m\u001b[1;33m[\u001b[0m\u001b[1;34m'errorCode'\u001b[0m\u001b[1;33m]\u001b[0m\u001b[1;33m,\u001b[0m \u001b[0mself\u001b[0m\u001b[1;33m.\u001b[0m\u001b[0m_response\u001b[0m\u001b[1;33m[\u001b[0m\u001b[1;34m'error'\u001b[0m\u001b[1;33m]\u001b[0m\u001b[1;33m)\u001b[0m\u001b[1;33m\u001b[0m\u001b[1;33m\u001b[0m\u001b[0m\n",
      "\u001b[1;31mSofia2Error\u001b[0m: ('CONNECTION', 'No Response Received')"
     ]
    }
   ],
   "source": [
    "# Connection data\n",
    "host = \"www.onesaitplatform.online\"\n",
    "client_platform = \"Client4Notebook\"\n",
    "client_id = client_platform + '_mqtt'\n",
    "token = \"674a6e05348a468787e5af4acdf5b3df\"\n",
    "\n",
    "# Test Data\n",
    "ontology = \"ontologyTest\"\n",
    "data = {ontology: {\"hhh\": \"value\"}}\n",
    "query = '{ontologyTest.hhh\":\"value\"}'\n",
    "update_native = \"{$set: {'ontologyTest.modificado':'asd'}}\"\n",
    "update_data = {'ontologyTest.newField': \"Test\"}\n",
    "\n",
    "client = Client(host, platform=client_platform, instance=client_id, token=token)\n",
    "\n",
    "client.connect()\n",
    "\n",
    "# QUERY\n",
    "resp = client.query(ontology, query)\n",
    "print(resp.result)\n",
    "\n",
    "# INSERT\n",
    "resp = client.insert(ontology, data)\n",
    "print(resp.result)\n",
    "resp = client.query(ontology, query)\n",
    "print(resp.result)\n",
    "# DELETE\n",
    "resp = client.delete(ontology, query)\n",
    "print(resp.result)\n",
    "resp = client.query(ontology, query)\n",
    "print(resp.result)\n",
    "\n",
    "# DISCONNECT\n",
    "client.disconnect()"
   ]
  },
  {
   "cell_type": "code",
   "execution_count": null,
   "metadata": {},
   "outputs": [],
   "source": [
    "# Using the client as a context manager\n",
    "with Client(host, platform=client_platform, instance=client_id, token=token) as client:\n",
    "\n",
    "    # INSERT\n",
    "    resp = client.insert(ontology, data)\n",
    "    print(resp.result)\n",
    "    inst_id = resp['id']\n",
    "    resp = client.query(ontology, query)\n",
    "    print(resp.result)\n",
    "\n",
    "    # UPDATE\n",
    "    resp = client.update(ontology, query, update_native)\n",
    "    print(resp.result)\n",
    "    resp = client.query(ontology, query)\n",
    "    print(resp.result)\n",
    "\n",
    "    # UPDATE BY ID\n",
    "    resp = client.update_id(ontology, inst_id, update_data)\n",
    "    print(resp.result)\n",
    "    resp = client.query(ontology, query)\n",
    "    print(resp.result)\n",
    "\n",
    "    # DELETE BY ID\n",
    "    resp = client.delete_id(ontology, inst_id)\n",
    "    print(resp.result)\n",
    "    resp = client.query(ontology, query)\n",
    "    print(resp.result)"
   ]
  }
 ],
 "metadata": {
  "kernelspec": {
   "display_name": "Python 3",
   "language": "python",
   "name": "python3"
  },
  "language_info": {
   "codemirror_mode": {
    "name": "ipython",
    "version": 3
   },
   "file_extension": ".py",
   "mimetype": "text/x-python",
   "name": "python",
   "nbconvert_exporter": "python",
   "pygments_lexer": "ipython3",
   "version": "3.7.1"
  }
 },
 "nbformat": 4,
 "nbformat_minor": 2
}
