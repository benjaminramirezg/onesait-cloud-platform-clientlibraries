{
 "cells": [
  {
   "cell_type": "markdown",
   "metadata": {},
   "source": [
    "# Digital Client example"
   ]
  },
  {
   "cell_type": "markdown",
   "metadata": {},
   "source": [
    "## Create DigitalClient"
   ]
  },
  {
   "cell_type": "code",
   "execution_count": 1,
   "metadata": {},
   "outputs": [],
   "source": [
    "import json\n",
    "from onesaitplatform.iotbroker import DigitalClient"
   ]
  },
  {
   "cell_type": "code",
   "execution_count": 2,
   "metadata": {},
   "outputs": [],
   "source": [
    "HOST = \"lab.onesaitplatform.com\"\n",
    "PORT = 443\n",
    "IOT_CLIENT = \"testclient\"\n",
    "IOT_CLIENT_TOKEN = \"4bbad2440f8d4571be17293a562f77ae\""
   ]
  },
  {
   "cell_type": "code",
   "execution_count": 3,
   "metadata": {},
   "outputs": [],
   "source": [
    "client = DigitalClient(HOST, port=PORT, iot_client=IOT_CLIENT, iot_client_token=IOT_CLIENT_TOKEN)\n",
    "client.protocol = \"https\"\n",
    "client.avoid_ssl_certificate = True\n",
    "client.timeout = 10 * 1000\n",
    "client.proxies = {\n",
    "    \"http\": \"http://proxy.indra.es:8080\",\n",
    "    \"https\": \"http://proxy.indra.es:8080\"\n",
    "}"
   ]
  },
  {
   "cell_type": "code",
   "execution_count": 4,
   "metadata": {},
   "outputs": [],
   "source": [
    "client.raise_exceptions = True"
   ]
  },
  {
   "cell_type": "markdown",
   "metadata": {},
   "source": [
    "## Join/ start connection"
   ]
  },
  {
   "cell_type": "code",
   "execution_count": 5,
   "metadata": {},
   "outputs": [
    {
     "name": "stderr",
     "output_type": "stream",
     "text": [
      "C:\\Users\\ebustos\\AppData\\Local\\Continuum\\anaconda3\\lib\\site-packages\\urllib3\\connectionpool.py:847: InsecureRequestWarning: Unverified HTTPS request is being made. Adding certificate verification is strongly advised. See: https://urllib3.readthedocs.io/en/latest/advanced-usage.html#ssl-warnings\n",
      "  InsecureRequestWarning)\n"
     ]
    },
    {
     "data": {
      "text/plain": [
       "(True, {'sessionKey': '58970739-ab73-452d-811f-161d25631579'})"
      ]
     },
     "execution_count": 5,
     "metadata": {},
     "output_type": "execute_result"
    }
   ],
   "source": [
    "client.join()"
   ]
  },
  {
   "cell_type": "code",
   "execution_count": null,
   "metadata": {},
   "outputs": [],
   "source": [
    "client.debug_trace"
   ]
  },
  {
   "cell_type": "code",
   "execution_count": 30,
   "metadata": {},
   "outputs": [
    {
     "name": "stderr",
     "output_type": "stream",
     "text": [
      "C:\\Users\\ebustos\\AppData\\Local\\Continuum\\anaconda3\\lib\\site-packages\\urllib3\\connectionpool.py:847: InsecureRequestWarning: Unverified HTTPS request is being made. Adding certificate verification is strongly advised. See: https://urllib3.readthedocs.io/en/latest/advanced-usage.html#ssl-warnings\n",
      "  InsecureRequestWarning)\n"
     ]
    },
    {
     "data": {
      "text/plain": [
       "(True, '{\"message\":\"Disconnected\"}')"
      ]
     },
     "execution_count": 30,
     "metadata": {},
     "output_type": "execute_result"
    }
   ],
   "source": [
    "client.leave()"
   ]
  },
  {
   "cell_type": "markdown",
   "metadata": {},
   "source": [
    "## Query data"
   ]
  },
  {
   "cell_type": "code",
   "execution_count": 6,
   "metadata": {},
   "outputs": [],
   "source": [
    "query = \"select * from Restaurants limit 3\""
   ]
  },
  {
   "cell_type": "code",
   "execution_count": 7,
   "metadata": {},
   "outputs": [
    {
     "name": "stderr",
     "output_type": "stream",
     "text": [
      "C:\\Users\\ebustos\\AppData\\Local\\Continuum\\anaconda3\\lib\\site-packages\\urllib3\\connectionpool.py:847: InsecureRequestWarning: Unverified HTTPS request is being made. Adding certificate verification is strongly advised. See: https://urllib3.readthedocs.io/en/latest/advanced-usage.html#ssl-warnings\n",
      "  InsecureRequestWarning)\n"
     ]
    }
   ],
   "source": [
    "ok_query, results_query = client.query(ontology=\"Restaurants\", query=query, query_type=\"SQL\")"
   ]
  },
  {
   "cell_type": "code",
   "execution_count": 9,
   "metadata": {},
   "outputs": [
    {
     "name": "stderr",
     "output_type": "stream",
     "text": [
      "C:\\Users\\ebustos\\AppData\\Local\\Continuum\\anaconda3\\lib\\site-packages\\urllib3\\connectionpool.py:847: InsecureRequestWarning: Unverified HTTPS request is being made. Adding certificate verification is strongly advised. See: https://urllib3.readthedocs.io/en/latest/advanced-usage.html#ssl-warnings\n",
      "  InsecureRequestWarning)\n"
     ]
    },
    {
     "data": {
      "text/plain": [
       "<Response [200]>"
      ]
     },
     "execution_count": 9,
     "metadata": {},
     "output_type": "execute_result"
    }
   ],
   "source": [
    "raw_response = client.raw_query(ontology=\"Restaurants\", query=query, query_type=\"SQL\")\n",
    "raw_response"
   ]
  },
  {
   "cell_type": "code",
   "execution_count": 10,
   "metadata": {},
   "outputs": [
    {
     "name": "stdout",
     "output_type": "stream",
     "text": [
      "Query success: True\n",
      "Query results:\n",
      "{'Restaurant': {'address': {'building': '351', 'coord': [-73.98513559999999, 40.7676919], 'street': 'West   57 Street', 'zipcode': '10019'}, 'borough': 'Manhattan', 'cuisine': 'Irish', 'grades': [{'date': '2014-09-06T00:00:00Z', 'grade': 'A', 'score': 2}, {'date': '2013-07-22T00:00:00Z', 'grade': 'A', 'score': 11}, {'date': '2012-07-31T00:00:00Z', 'grade': 'A', 'score': 12}, {'date': '2011-12-29T00:00:00Z', 'grade': 'A', 'score': 12}], 'name': 'Dj Reynolds Pub And Restaurant', 'restaurant_id': '30191841'}}\n",
      "*\n",
      "{'Restaurant': {'address': {'building': '2780', 'coord': [-73.98241999999999, 40.579505], 'street': 'Stillwell Avenue', 'zipcode': '11224'}, 'borough': 'Brooklyn', 'cuisine': 'American', 'grades': [{'date': '2014-06-10T00:00:00Z', 'grade': 'A', 'score': 5}, {'date': '2013-06-05T00:00:00Z', 'grade': 'A', 'score': 7}, {'date': '2012-04-13T00:00:00Z', 'grade': 'A', 'score': 12}, {'date': '2011-10-12T00:00:00Z', 'grade': 'A', 'score': 12}], 'name': 'Riviera Caterer', 'restaurant_id': '40356018'}}\n",
      "*\n",
      "{'Restaurant': {'address': {'building': '97-22', 'coord': [-73.8601152, 40.7311739], 'street': '63 Road', 'zipcode': '11374'}, 'borough': 'Queens', 'cuisine': 'Jewish/Kosher', 'grades': [{'date': '2014-11-24T00:00:00Z', 'grade': 'Z', 'score': 20}, {'date': '2013-01-17T00:00:00Z', 'grade': 'A', 'score': 13}, {'date': '2012-08-02T00:00:00Z', 'grade': 'A', 'score': 13}, {'date': '2011-12-15T00:00:00Z', 'grade': 'B', 'score': 25}], 'name': 'Tov Kosher Kitchen', 'restaurant_id': '40356068'}}\n",
      "*\n"
     ]
    }
   ],
   "source": [
    "print(\"Query success: {}\".format(ok_query))\n",
    "print(\"Query results:\")\n",
    "for res in results_query:\n",
    "    print(res)\n",
    "    print(\"*\")"
   ]
  },
  {
   "cell_type": "markdown",
   "metadata": {},
   "source": [
    "## Query data in batch"
   ]
  },
  {
   "cell_type": "code",
   "execution_count": null,
   "metadata": {},
   "outputs": [],
   "source": [
    "query = \"db.Restaurants.find().limit(3)\""
   ]
  },
  {
   "cell_type": "code",
   "execution_count": null,
   "metadata": {},
   "outputs": [],
   "source": [
    "ok_query, results_query = client.query(ontology=\"Restaurants\", query=query, query_type=\"NATIVE\")"
   ]
  },
  {
   "cell_type": "code",
   "execution_count": null,
   "metadata": {},
   "outputs": [],
   "source": [
    "print(\"Query success: {}\".format(ok_query))\n",
    "print(\"Query results:\")\n",
    "for res in results_query:\n",
    "    print(res)\n",
    "    print(\"*\")"
   ]
  },
  {
   "cell_type": "code",
   "execution_count": null,
   "metadata": {},
   "outputs": [],
   "source": [
    "query_batch = \"select c from Restaurants as c\"\n",
    "ok_query, results_query = client.query_batch(ontology=\"Restaurants\", query=query_batch, query_type=\"SQL\", batch_size=50)"
   ]
  },
  {
   "cell_type": "code",
   "execution_count": null,
   "metadata": {},
   "outputs": [],
   "source": [
    "print(\"Query success: {}\".format(ok_query))\n",
    "print(\"Query results:\")\n",
    "for res in results_query:\n",
    "    print(res)\n",
    "    print(\"*\")"
   ]
  },
  {
   "cell_type": "code",
   "execution_count": null,
   "metadata": {},
   "outputs": [],
   "source": [
    "query_batch = \"db.Restaurants.find()\"\n",
    "ok_query, results_query = client.query_batch(ontology=\"Restaurants\", query=query_batch, query_type=\"NATIVE\", batch_size=50)"
   ]
  },
  {
   "cell_type": "code",
   "execution_count": null,
   "metadata": {},
   "outputs": [],
   "source": [
    "print(\"Query success: {}\".format(ok_query))\n",
    "print(\"Query results:\")\n",
    "for res in results_query:\n",
    "    print(res)\n",
    "    print(\"*\")"
   ]
  },
  {
   "cell_type": "markdown",
   "metadata": {},
   "source": [
    "## Insert data"
   ]
  },
  {
   "cell_type": "code",
   "execution_count": 33,
   "metadata": {},
   "outputs": [],
   "source": [
    "new_restaurant = {\n",
    "    'Restaurant': {\n",
    "        'address': {\n",
    "            'building': '2780', \n",
    "            'coord': [-73.98241999999999, 40.579505], \n",
    "            'street': 'Stillwell Avenue', \n",
    "            'zipcode': '11224'\n",
    "        }, \n",
    "        'borough': 'Brooklyn', \n",
    "        'cuisine': 'Edu', \n",
    "        'grades': [\n",
    "            {'date': '2014-06-10T00:00:00Z', 'grade': 'A', 'score': 5}\n",
    "        ], \n",
    "        'name': 'Riviera Caterer 18', \n",
    "        'restaurant_id': '40356118'\n",
    "    }\n",
    "}\n",
    "\n",
    "new_restaurant_str = json.dumps(new_restaurant)\n",
    "new_restaurants = [new_restaurant]"
   ]
  },
  {
   "cell_type": "code",
   "execution_count": 39,
   "metadata": {},
   "outputs": [
    {
     "name": "stdout",
     "output_type": "stream",
     "text": [
      "True {'id': '5d7f8da92cfe9d000b7a5b24'}\n"
     ]
    },
    {
     "name": "stderr",
     "output_type": "stream",
     "text": [
      "C:\\Users\\ebustos\\AppData\\Local\\Continuum\\anaconda3\\lib\\site-packages\\urllib3\\connectionpool.py:847: InsecureRequestWarning: Unverified HTTPS request is being made. Adding certificate verification is strongly advised. See: https://urllib3.readthedocs.io/en/latest/advanced-usage.html#ssl-warnings\n",
      "  InsecureRequestWarning)\n"
     ]
    }
   ],
   "source": [
    "ok_insert, res_insert = client.insert(\"Restaurants\", new_restaurants)\n",
    "print(ok_insert, res_insert)"
   ]
  },
  {
   "cell_type": "code",
   "execution_count": 35,
   "metadata": {},
   "outputs": [
    {
     "data": {
      "text/plain": [
       "['[Mon Sep 16 15:11:20 2019] Created client with                                 iot-broker host:development.onesaitplatform.com, path:/iot-broker,                                 client:RestaurantClient, token:669b4309e9d24412b10b8cd34aa70d88',\n",
       " \"[Mon Sep 16 15:11:29 2019] Calling rest api, method:GET, url:https://development.onesaitplatform.com:443/iot-broker/rest/client/join, headers:{'Accept': 'application/json', 'Content-type': 'application/json'}, params:{'token': '669b4309e9d24412b10b8cd34aa70d88', 'clientPlatform': 'RestaurantClient', 'clientPlatformId': 'RestaurantClient:PythonClient'}\",\n",
       " '[Mon Sep 16 15:11:29 2019] Call rest api response: 200',\n",
       " '[Mon Sep 16 15:11:29 2019] Logged correctly with session_key: {\"sessionKey\":\"eb28227d-f92d-4845-9801-22cccc87c82f\"}',\n",
       " \"[Mon Sep 16 15:11:33 2019] Calling rest api, method:GET, url:https://development.onesaitplatform.com:443/iot-broker/rest/ontology/Restaurants, headers:{'Authorization': 'eb28227d-f92d-4845-9801-22cccc87c82f'}, params:{'query': 'select * from Restaurants limit 3', 'queryType': 'SQL'}\",\n",
       " '[Mon Sep 16 15:11:33 2019] Call rest api response: 200',\n",
       " \"[Mon Sep 16 15:11:33 2019] Response: 200 - {'Restaurant': {'address': {'building': '351', 'coord': [-73.98513559999999, 40.7676919], 'street': 'West   57 Street', 'zipcode': '10019'}, 'borough': 'Manhattan', 'cuisine': 'Irish', 'grades': [{'date': '2014-09-06T00:00:00Z', 'grade': 'A', 'score': 2}, {'date': '2013-07-22T00:00:00Z', 'grade': 'A', 'score': 11}, {'date': '2012-07-31T00:00:00Z', 'grade': 'A', 'score': 12}, {'date': '2011-12-29T00:00:00Z', 'grade': 'A', 'score': 12}], 'name': 'Dj Reynolds Pub And Restaurant', 'restaurant_id': '30191841'}}\",\n",
       " \"[Mon Sep 16 15:11:57 2019] Calling rest api, method:GET, url:https://development.onesaitplatform.com:443/iot-broker/rest/ontology/Restaurants, headers:{'Authorization': 'eb28227d-f92d-4845-9801-22cccc87c82f'}, params:{'query': 'select * from Restaurants limit 3', 'queryType': 'SQL'}\",\n",
       " '[Mon Sep 16 15:11:57 2019] Call rest api response: 200',\n",
       " \"[Mon Sep 16 15:12:30 2019] Calling rest api, method:POST, url:https://development.onesaitplatform.com:443/iot-broker/rest/ontology/RestaurantTest, headers:{'Authorization': 'eb28227d-f92d-4845-9801-22cccc87c82f'}, params:\",\n",
       " '[Mon Sep 16 15:12:30 2019] Call rest api response: 403',\n",
       " \"[Mon Sep 16 15:12:30 2019] Calling rest api, method:GET, url:https://development.onesaitplatform.com:443/iot-broker/rest/client/leave, headers:{'Authorization': 'eb28227d-f92d-4845-9801-22cccc87c82f'}, params:\",\n",
       " '[Mon Sep 16 15:12:31 2019] Call rest api response: 200',\n",
       " '[Mon Sep 16 15:12:31 2019] Disconnected correctly: {\"message\":\"Disconnected\"}',\n",
       " \"[Mon Sep 16 15:12:31 2019] Calling rest api, method:GET, url:https://development.onesaitplatform.com:443/iot-broker/rest/client/join, headers:{'Accept': 'application/json', 'Content-type': 'application/json'}, params:{'token': '669b4309e9d24412b10b8cd34aa70d88', 'clientPlatform': 'RestaurantClient', 'clientPlatformId': 'RestaurantClient:PythonClient'}\",\n",
       " '[Mon Sep 16 15:12:31 2019] Call rest api response: 200',\n",
       " '[Mon Sep 16 15:12:31 2019] Logged correctly with session_key: {\"sessionKey\":\"ea1f3b2a-5ac2-4b7d-a121-a87981a1e271\"}',\n",
       " '[Mon Sep 16 15:12:31 2019] Reconnected: True',\n",
       " \"[Mon Sep 16 15:12:31 2019] Calling rest api, method:POST, url:https://development.onesaitplatform.com:443/iot-broker/rest/ontology/RestaurantTest, headers:{'Authorization': 'ea1f3b2a-5ac2-4b7d-a121-a87981a1e271'}, params:\",\n",
       " '[Mon Sep 16 15:12:31 2019] Call rest api response: 403',\n",
       " '[Mon Sep 16 15:12:31 2019] Bad response: 403 - Unauthorized ontology',\n",
       " \"[Mon Sep 16 15:12:57 2019] Calling rest api, method:POST, url:https://development.onesaitplatform.com:443/iot-broker/rest/ontology/RestaurantTest, headers:{'Authorization': 'ea1f3b2a-5ac2-4b7d-a121-a87981a1e271'}, params:\",\n",
       " '[Mon Sep 16 15:12:57 2019] Call rest api response: 403',\n",
       " \"[Mon Sep 16 15:12:57 2019] Calling rest api, method:GET, url:https://development.onesaitplatform.com:443/iot-broker/rest/client/leave, headers:{'Authorization': 'ea1f3b2a-5ac2-4b7d-a121-a87981a1e271'}, params:\",\n",
       " '[Mon Sep 16 15:21:00 2019] Query result: {\"id\":\"5d7f8c3c2cfe9d000b7a5ac7\"}']"
      ]
     },
     "execution_count": 35,
     "metadata": {},
     "output_type": "execute_result"
    }
   ],
   "source": [
    "client.debug_trace"
   ]
  },
  {
   "cell_type": "code",
   "execution_count": 31,
   "metadata": {},
   "outputs": [
    {
     "name": "stderr",
     "output_type": "stream",
     "text": [
      "C:\\Users\\ebustos\\AppData\\Local\\Continuum\\anaconda3\\lib\\site-packages\\urllib3\\connectionpool.py:847: InsecureRequestWarning: Unverified HTTPS request is being made. Adding certificate verification is strongly advised. See: https://urllib3.readthedocs.io/en/latest/advanced-usage.html#ssl-warnings\n",
      "  InsecureRequestWarning)\n",
      "C:\\Users\\ebustos\\AppData\\Local\\Continuum\\anaconda3\\lib\\site-packages\\urllib3\\connectionpool.py:847: InsecureRequestWarning: Unverified HTTPS request is being made. Adding certificate verification is strongly advised. See: https://urllib3.readthedocs.io/en/latest/advanced-usage.html#ssl-warnings\n",
      "  InsecureRequestWarning)\n",
      "C:\\Users\\ebustos\\AppData\\Local\\Continuum\\anaconda3\\lib\\site-packages\\urllib3\\connectionpool.py:847: InsecureRequestWarning: Unverified HTTPS request is being made. Adding certificate verification is strongly advised. See: https://urllib3.readthedocs.io/en/latest/advanced-usage.html#ssl-warnings\n",
      "  InsecureRequestWarning)\n"
     ]
    },
    {
     "data": {
      "text/plain": [
       "<Response [400]>"
      ]
     },
     "execution_count": 31,
     "metadata": {},
     "output_type": "execute_result"
    }
   ],
   "source": [
    "raw_response = client.raw_insert(\"Restaurants\", new_restaurants)\n",
    "raw_response"
   ]
  },
  {
   "cell_type": "code",
   "execution_count": 32,
   "metadata": {},
   "outputs": [
    {
     "data": {
      "text/plain": [
       "'Error processing data:{\"Restaurant\":{\"address\":{\"building\":\"2780\",\"coord\":[-73.98241999999999,40.579505],\"street\":\"Stillwell Avenue\",\"zipcode\":11224},\"borough\":\"Brooklyn\",\"cuisine\":\"Edu\",\"grades\":[{\"date\":\"2014-06-10T00:00:00Z\",\"grade\":\"A\",\"score\":5}],\"name\":\"Riviera Caterer 18\",\"restaurant_id\":\"40356118\"}}by:{\"level\":\"error\",\"schema\":{\"loadingURI\":\"#\",\"pointer\":\"/properties/Restaurant/properties/address/properties/zipcode\"},\"instance\":{\"pointer\":\"/Restaurant/address/zipcode\"},\"domain\":\"validation\",\"keyword\":\"type\",\"message\":\"instance type (integer) does not match any allowed primitive type (allowed: [\\\\\"string\\\\\"])\",\"found\":\"integer\",\"expected\":[\"string\"]}'"
      ]
     },
     "execution_count": 32,
     "metadata": {},
     "output_type": "execute_result"
    }
   ],
   "source": [
    "raw_response.text"
   ]
  },
  {
   "cell_type": "markdown",
   "metadata": {},
   "source": [
    "# Remove Data"
   ]
  },
  {
   "cell_type": "code",
   "execution_count": 11,
   "metadata": {
    "scrolled": true
   },
   "outputs": [
    {
     "name": "stderr",
     "output_type": "stream",
     "text": [
      "C:\\Users\\ebustos\\AppData\\Local\\Continuum\\anaconda3\\lib\\site-packages\\urllib3\\connectionpool.py:847: InsecureRequestWarning: Unverified HTTPS request is being made. Adding certificate verification is strongly advised. See: https://urllib3.readthedocs.io/en/latest/advanced-usage.html#ssl-warnings\n",
      "  InsecureRequestWarning)\n"
     ]
    },
    {
     "name": "stdout",
     "output_type": "stream",
     "text": [
      "200\n",
      "{\"nDeleted\":0,\"deleted\":[]}\n",
      "True\n",
      "{'nDeleted': 0, 'deleted': []}\n"
     ]
    },
    {
     "name": "stderr",
     "output_type": "stream",
     "text": [
      "C:\\Users\\ebustos\\AppData\\Local\\Continuum\\anaconda3\\lib\\site-packages\\urllib3\\connectionpool.py:847: InsecureRequestWarning: Unverified HTTPS request is being made. Adding certificate verification is strongly advised. See: https://urllib3.readthedocs.io/en/latest/advanced-usage.html#ssl-warnings\n",
      "  InsecureRequestWarning)\n"
     ]
    }
   ],
   "source": [
    "ontology = \"testclientontology\"\n",
    "entity_id = \"5e0f07097a5d0b000b723ffb\"\n",
    "response_raw_delete = client.raw_delete(ontology, entity_id, True)\n",
    "print(response_raw_delete.status_code)\n",
    "print(response_raw_delete.text)\n",
    "ok_delete, res_delete = client.delete(ontology, entity_id, True)\n",
    "print(ok_delete)\n",
    "print(res_delete)"
   ]
  }
 ],
 "metadata": {
  "kernelspec": {
   "display_name": "Python 3",
   "language": "python",
   "name": "python3"
  },
  "language_info": {
   "codemirror_mode": {
    "name": "ipython",
    "version": 3
   },
   "file_extension": ".py",
   "mimetype": "text/x-python",
   "name": "python",
   "nbconvert_exporter": "python",
   "pygments_lexer": "ipython3",
   "version": "3.7.3"
  }
 },
 "nbformat": 4,
 "nbformat_minor": 2
}
