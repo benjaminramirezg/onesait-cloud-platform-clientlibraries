{
 "cells": [
  {
   "cell_type": "markdown",
   "metadata": {},
   "source": [
    "# Iot Broker Client example"
   ]
  },
  {
   "cell_type": "markdown",
   "metadata": {},
   "source": [
    "## Create IotBrokerClient"
   ]
  },
  {
   "cell_type": "code",
   "execution_count": 12,
   "metadata": {},
   "outputs": [],
   "source": [
    "import json\n",
    "from onesaitplatform.iotbroker import IotBrokerClient"
   ]
  },
  {
   "cell_type": "code",
   "execution_count": 13,
   "metadata": {},
   "outputs": [],
   "source": [
    "HOST = \"www.onesaitplatform.online\"\n",
    "PORT = 443\n",
    "IOT_CLIENT = \"RestaurantTestClient\"\n",
    "IOT_CLIENT_TOKEN = \"0a42c0ba12254a2db048e9d927a61f47\""
   ]
  },
  {
   "cell_type": "code",
   "execution_count": 14,
   "metadata": {},
   "outputs": [],
   "source": [
    "client = IotBrokerClient(HOST, port=PORT, iot_client=IOT_CLIENT, iot_client_token=IOT_CLIENT_TOKEN)\n",
    "#client.protocol = \"https\"\n",
    "#client.avoid_ssl_certificate = True"
   ]
  },
  {
   "cell_type": "markdown",
   "metadata": {},
   "source": [
    "## Join/ start connection"
   ]
  },
  {
   "cell_type": "code",
   "execution_count": 15,
   "metadata": {},
   "outputs": [
    {
     "data": {
      "text/plain": [
       "(True, {'sessionKey': '95ca7a7b-603b-429c-b24b-d042cb302dd9'})"
      ]
     },
     "execution_count": 15,
     "metadata": {},
     "output_type": "execute_result"
    }
   ],
   "source": [
    "client.join()"
   ]
  },
  {
   "cell_type": "code",
   "execution_count": null,
   "metadata": {},
   "outputs": [],
   "source": [
    "client.leave()"
   ]
  },
  {
   "cell_type": "markdown",
   "metadata": {},
   "source": [
    "## Query data"
   ]
  },
  {
   "cell_type": "code",
   "execution_count": 7,
   "metadata": {},
   "outputs": [],
   "source": [
    "query = \"select * from Restaurants limit 3\""
   ]
  },
  {
   "cell_type": "code",
   "execution_count": 8,
   "metadata": {},
   "outputs": [],
   "source": [
    "ok_query, results_query = client.query(ontology=\"Restaurants\", query=query, query_type=\"SQL\")"
   ]
  },
  {
   "cell_type": "code",
   "execution_count": 9,
   "metadata": {
    "collapsed": true
   },
   "outputs": [
    {
     "name": "stdout",
     "output_type": "stream",
     "text": [
      "Query success: True\n",
      "Query results:\n",
      "{'Restaurant': {'address': {'building': '351', 'coord': [-73.98513559999999, 40.7676919], 'street': 'West   57 Street', 'zipcode': '10019'}, 'borough': 'Manhattan', 'cuisine': 'Irish', 'grades': [{'date': '2014-09-06T00:00:00Z', 'grade': 'A', 'score': 2}, {'date': '2013-07-22T00:00:00Z', 'grade': 'A', 'score': 11}, {'date': '2012-07-31T00:00:00Z', 'grade': 'A', 'score': 12}, {'date': '2011-12-29T00:00:00Z', 'grade': 'A', 'score': 12}], 'name': 'Dj Reynolds Pub And Restaurant', 'restaurant_id': '30191841'}}\n",
      "*\n",
      "{'Restaurant': {'address': {'building': '2780', 'coord': [-73.98241999999999, 40.579505], 'street': 'Stillwell Avenue', 'zipcode': '11224'}, 'borough': 'Brooklyn', 'cuisine': 'American', 'grades': [{'date': '2014-06-10T00:00:00Z', 'grade': 'A', 'score': 5}, {'date': '2013-06-05T00:00:00Z', 'grade': 'A', 'score': 7}, {'date': '2012-04-13T00:00:00Z', 'grade': 'A', 'score': 12}, {'date': '2011-10-12T00:00:00Z', 'grade': 'A', 'score': 12}], 'name': 'Riviera Caterer', 'restaurant_id': '40356018'}}\n",
      "*\n",
      "{'Restaurant': {'address': {'building': '97-22', 'coord': [-73.8601152, 40.7311739], 'street': '63 Road', 'zipcode': '11374'}, 'borough': 'Queens', 'cuisine': 'Jewish/Kosher', 'grades': [{'date': '2014-11-24T00:00:00Z', 'grade': 'Z', 'score': 20}, {'date': '2013-01-17T00:00:00Z', 'grade': 'A', 'score': 13}, {'date': '2012-08-02T00:00:00Z', 'grade': 'A', 'score': 13}, {'date': '2011-12-15T00:00:00Z', 'grade': 'B', 'score': 25}], 'name': 'Tov Kosher Kitchen', 'restaurant_id': '40356068'}}\n",
      "*\n"
     ]
    }
   ],
   "source": [
    "print(\"Query success: {}\".format(ok_query))\n",
    "print(\"Query results:\")\n",
    "for res in results_query:\n",
    "    print(res)\n",
    "    print(\"*\")"
   ]
  },
  {
   "cell_type": "markdown",
   "metadata": {},
   "source": [
    "## Query data in batch"
   ]
  },
  {
   "cell_type": "code",
   "execution_count": null,
   "metadata": {},
   "outputs": [],
   "source": [
    "query = \"db.Restaurants.find().limit(3)\""
   ]
  },
  {
   "cell_type": "code",
   "execution_count": null,
   "metadata": {},
   "outputs": [],
   "source": [
    "ok_query, results_query = client.query(ontology=\"Restaurants\", query=query, query_type=\"NATIVE\")"
   ]
  },
  {
   "cell_type": "code",
   "execution_count": null,
   "metadata": {},
   "outputs": [],
   "source": [
    "print(\"Query success: {}\".format(ok_query))\n",
    "print(\"Query results:\")\n",
    "for res in results_query:\n",
    "    print(res)\n",
    "    print(\"*\")"
   ]
  },
  {
   "cell_type": "code",
   "execution_count": null,
   "metadata": {},
   "outputs": [],
   "source": [
    "query_batch = \"select c from Restaurants as c\"\n",
    "ok_query, results_query = client.query_batch(ontology=\"Restaurants\", query=query_batch, query_type=\"SQL\", batch_size=50)"
   ]
  },
  {
   "cell_type": "code",
   "execution_count": null,
   "metadata": {},
   "outputs": [],
   "source": [
    "print(\"Query success: {}\".format(ok_query))\n",
    "print(\"Query results:\")\n",
    "for res in results_query:\n",
    "    print(res)\n",
    "    print(\"*\")"
   ]
  },
  {
   "cell_type": "code",
   "execution_count": null,
   "metadata": {},
   "outputs": [],
   "source": [
    "query_batch = \"db.Restaurants.find()\"\n",
    "ok_query, results_query = client.query_batch(ontology=\"Restaurants\", query=query_batch, query_type=\"NATIVE\", batch_size=50)"
   ]
  },
  {
   "cell_type": "code",
   "execution_count": null,
   "metadata": {},
   "outputs": [],
   "source": [
    "print(\"Query success: {}\".format(ok_query))\n",
    "print(\"Query results:\")\n",
    "for res in results_query:\n",
    "    print(res)\n",
    "    print(\"*\")"
   ]
  },
  {
   "cell_type": "markdown",
   "metadata": {},
   "source": [
    "## Insert data"
   ]
  },
  {
   "cell_type": "code",
   "execution_count": 16,
   "metadata": {},
   "outputs": [],
   "source": [
    "new_restaurant = {\n",
    "    'Restaurant': {\n",
    "        'address': {\n",
    "            'building': '2780', \n",
    "            'coord': [-73.98241999999999, 40.579505], \n",
    "            'street': 'Stillwell Avenue', \n",
    "            'zipcode': '11224'\n",
    "        }, \n",
    "        'borough': 'Brooklyn', \n",
    "        'cuisine': 'American', \n",
    "        'grades': [\n",
    "            {'date': '2014-06-10T00:00:00Z', 'grade': 'A', 'score': 5}\n",
    "        ], \n",
    "        'name': 'Riviera Caterer 18', \n",
    "        'restaurant_id': '40356118'\n",
    "    }\n",
    "}\n",
    "\n",
    "new_restaurant_str = json.dumps(new_restaurant)\n",
    "new_restaurants = [new_restaurant]"
   ]
  },
  {
   "cell_type": "code",
   "execution_count": 17,
   "metadata": {},
   "outputs": [
    {
     "name": "stdout",
     "output_type": "stream",
     "text": [
      "True {'id': '5ccc47dde336fd000bc77eaf'}\n"
     ]
    }
   ],
   "source": [
    "ok_insert, res_insert = client.insert(\"RestaurantTest\", new_restaurants)\n",
    "print(ok_insert, res_insert)"
   ]
  }
 ],
 "metadata": {
  "kernelspec": {
   "display_name": "Python 3",
   "language": "python",
   "name": "python3"
  },
  "language_info": {
   "codemirror_mode": {
    "name": "ipython",
    "version": 3
   },
   "file_extension": ".py",
   "mimetype": "text/x-python",
   "name": "python",
   "nbconvert_exporter": "python",
   "pygments_lexer": "ipython3",
   "version": "3.7.1"
  }
 },
 "nbformat": 4,
 "nbformat_minor": 2
}
