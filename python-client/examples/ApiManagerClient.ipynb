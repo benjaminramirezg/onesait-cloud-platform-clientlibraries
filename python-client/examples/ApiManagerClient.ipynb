{
 "cells": [
  {
   "cell_type": "code",
   "execution_count": 1,
   "metadata": {},
   "outputs": [],
   "source": [
    "from onesaitplatform.apimanager import ApiManagerClient"
   ]
  },
  {
   "cell_type": "code",
   "execution_count": 2,
   "metadata": {},
   "outputs": [],
   "source": [
    "HOST = \"development.onesaitplatform.com\"\n",
    "TOKEN = \"b32522cd73e84ddda519f1dff9627f40\""
   ]
  },
  {
   "cell_type": "code",
   "execution_count": 3,
   "metadata": {},
   "outputs": [],
   "source": [
    "client = ApiManagerClient(HOST)\n",
    "client.setToken(TOKEN)"
   ]
  },
  {
   "cell_type": "code",
   "execution_count": 4,
   "metadata": {},
   "outputs": [],
   "source": [
    "ok_find, res_find = client.find(\"RestaurantsAPI\", \"Created\", \"analytics\")"
   ]
  },
  {
   "cell_type": "code",
   "execution_count": 5,
   "metadata": {},
   "outputs": [
    {
     "name": "stdout",
     "output_type": "stream",
     "text": [
      "API finded: True\n",
      "Api info:\n",
      "[{'identification': 'RestaurantsAPI', 'version': 1, 'type': 'PRIVATE', 'isPublic': None, 'category': 'EDUCATION', 'externalApi': False, 'ontologyId': 'MASTER-Ontology-Restaurant-1', 'endpoint': 'https://development.onesaitplatform.com/api-manager/server/api/v1/RestaurantsAPI', 'endpointExt': None, 'description': '', 'metainf': '', 'imageType': None, 'status': 'CREATED', 'creationDate': '04/16/2019 13:01:03', 'userId': 'analytics', 'operations': [{'identification': 'RestaurantsAPI_GET', 'description': 'id', 'operation': 'GET', 'endpoint': None, 'path': '/{id}', 'headers': [], 'queryParams': [{'name': 'id', 'dataType': 'STRING', 'description': '', 'value': None, 'headerType': 'PATH', 'condition': None}], 'postProcess': None}, {'identification': 'RestaurantsAPI_GETAll', 'description': 'all', 'operation': 'GET', 'endpoint': None, 'path': '', 'headers': [], 'queryParams': [], 'postProcess': None}], 'authentication': None}]\n"
     ]
    }
   ],
   "source": [
    "print(\"API finded: {}\".format(ok_find))\n",
    "print(\"Api info:\")\n",
    "print(res_find)"
   ]
  },
  {
   "cell_type": "code",
   "execution_count": 6,
   "metadata": {},
   "outputs": [],
   "source": [
    "ok_list, res_list = client.list(\"analytics\")"
   ]
  },
  {
   "cell_type": "code",
   "execution_count": 7,
   "metadata": {},
   "outputs": [
    {
     "name": "stdout",
     "output_type": "stream",
     "text": [
      "APIs listed True\n",
      "Apis info:\n",
      "{'identification': 'RestaurantsAPI', 'version': 1, 'type': 'PRIVATE', 'isPublic': None, 'category': 'EDUCATION', 'externalApi': False, 'ontologyId': 'MASTER-Ontology-Restaurant-1', 'endpoint': 'https://development.onesaitplatform.com/api-manager/server/api/v1/RestaurantsAPI', 'endpointExt': None, 'description': '', 'metainf': '', 'imageType': None, 'status': 'CREATED', 'creationDate': '04/16/2019 13:01:03', 'userId': 'analytics', 'operations': [{'identification': 'RestaurantsAPI_GET', 'description': 'id', 'operation': 'GET', 'endpoint': None, 'path': '/{id}', 'headers': [], 'queryParams': [{'name': 'id', 'dataType': 'STRING', 'description': '', 'value': None, 'headerType': 'PATH', 'condition': None}], 'postProcess': None}, {'identification': 'RestaurantsAPI_GETAll', 'description': 'all', 'operation': 'GET', 'endpoint': None, 'path': '', 'headers': [], 'queryParams': [], 'postProcess': None}], 'authentication': None}\n",
      "*\n",
      "{'identification': 'RestaurantTestApi', 'version': 1, 'type': 'PRIVATE', 'isPublic': None, 'category': 'OTHER', 'externalApi': False, 'ontologyId': 'b5982b8d-e4c0-4a84-ab65-9e7d2f30e638', 'endpoint': 'https://development.onesaitplatform.com/api-manager/server/api/v1/RestaurantTestApi', 'endpointExt': None, 'description': '', 'metainf': '', 'imageType': None, 'status': 'CREATED', 'creationDate': '04/12/2019 08:19:16', 'userId': 'analytics', 'operations': [{'identification': 'RestaurantTestApi_PUT', 'description': 'update', 'operation': 'PUT', 'endpoint': None, 'path': '/{id}', 'headers': [], 'queryParams': [{'name': 'body', 'dataType': 'STRING', 'description': '', 'value': '', 'headerType': 'BODY', 'condition': None}, {'name': 'id', 'dataType': 'STRING', 'description': '', 'value': None, 'headerType': 'PATH', 'condition': None}], 'postProcess': None}, {'identification': 'RestaurantTestApi_POST', 'description': 'insert', 'operation': 'POST', 'endpoint': None, 'path': '/', 'headers': [], 'queryParams': [{'name': 'body', 'dataType': 'STRING', 'description': '', 'value': '', 'headerType': 'BODY', 'condition': None}], 'postProcess': None}, {'identification': 'RestaurantTestApi_GETAll', 'description': 'query', 'operation': 'GET', 'endpoint': None, 'path': '', 'headers': [], 'queryParams': [], 'postProcess': None}, {'identification': 'RestaurantTestApi_GET', 'description': 'queryby', 'operation': 'GET', 'endpoint': None, 'path': '/{id}', 'headers': [], 'queryParams': [{'name': 'id', 'dataType': 'STRING', 'description': '', 'value': None, 'headerType': 'PATH', 'condition': None}], 'postProcess': None}, {'identification': 'RestaurantTestApi_DELETEID', 'description': 'delete', 'operation': 'DELETE', 'endpoint': None, 'path': '/{id}', 'headers': [], 'queryParams': [{'name': 'id', 'dataType': 'STRING', 'description': '', 'value': None, 'headerType': 'PATH', 'condition': None}], 'postProcess': None}], 'authentication': None}\n",
      "*\n"
     ]
    }
   ],
   "source": [
    "print(\"APIs listed {}\".format(ok_list))\n",
    "print(\"Apis info:\")\n",
    "for api in res_list:\n",
    "    print(api)\n",
    "    print(\"*\")"
   ]
  },
  {
   "cell_type": "code",
   "execution_count": 8,
   "metadata": {},
   "outputs": [
    {
     "ename": "Exception",
     "evalue": "Response: 500 - {\"result\":\"GENERAL\", \"message\":\"Stopped Execution, Found Stop State\", \"details\":\"BODY IS NOT JSON PARSEABLE \"}",
     "output_type": "error",
     "traceback": [
      "\u001b[1;31m---------------------------------------------------------------------------\u001b[0m",
      "\u001b[1;31mException\u001b[0m                                 Traceback (most recent call last)",
      "\u001b[1;32m<ipython-input-8-3f17fe0dc5ef>\u001b[0m in \u001b[0;36m<module>\u001b[1;34m\u001b[0m\n\u001b[1;32m----> 1\u001b[1;33m \u001b[0mok_request\u001b[0m\u001b[1;33m,\u001b[0m \u001b[0mres_request\u001b[0m \u001b[1;33m=\u001b[0m \u001b[0mclient\u001b[0m\u001b[1;33m.\u001b[0m\u001b[0mrequest\u001b[0m\u001b[1;33m(\u001b[0m\u001b[0mmethod\u001b[0m\u001b[1;33m=\u001b[0m\u001b[1;34m\"GET\"\u001b[0m\u001b[1;33m,\u001b[0m \u001b[0mname\u001b[0m\u001b[1;33m=\u001b[0m\u001b[1;34m\"RestaurantsAPI\"\u001b[0m\u001b[1;33m,\u001b[0m \u001b[0mversion\u001b[0m\u001b[1;33m=\u001b[0m\u001b[1;36m1\u001b[0m\u001b[1;33m)\u001b[0m\u001b[1;33m\u001b[0m\u001b[1;33m\u001b[0m\u001b[0m\n\u001b[0m",
      "\u001b[1;32m~\\AppData\\Local\\Continuum\\anaconda3\\lib\\site-packages\\onesaitplatform\\apimanager\\apimanagerclient.py\u001b[0m in \u001b[0;36mrequest\u001b[1;34m(self, method, url, name, version, path_params, query_params, body)\u001b[0m\n\u001b[0;32m    335\u001b[0m \u001b[1;33m\u001b[0m\u001b[0m\n\u001b[0;32m    336\u001b[0m         \u001b[1;32melse\u001b[0m\u001b[1;33m:\u001b[0m\u001b[1;33m\u001b[0m\u001b[1;33m\u001b[0m\u001b[0m\n\u001b[1;32m--> 337\u001b[1;33m             \u001b[1;32mraise\u001b[0m \u001b[0mException\u001b[0m\u001b[1;33m(\u001b[0m\u001b[1;34m\"Response: {} - {}\"\u001b[0m\u001b[1;33m.\u001b[0m\u001b[0mformat\u001b[0m\u001b[1;33m(\u001b[0m\u001b[0mresponse\u001b[0m\u001b[1;33m.\u001b[0m\u001b[0mstatus_code\u001b[0m\u001b[1;33m,\u001b[0m \u001b[0mresponse\u001b[0m\u001b[1;33m.\u001b[0m\u001b[0mtext\u001b[0m\u001b[1;33m)\u001b[0m\u001b[1;33m)\u001b[0m\u001b[1;33m\u001b[0m\u001b[1;33m\u001b[0m\u001b[0m\n\u001b[0m\u001b[0;32m    338\u001b[0m \u001b[1;33m\u001b[0m\u001b[0m\n\u001b[0;32m    339\u001b[0m         \"\"\"except Exception as e:\n",
      "\u001b[1;31mException\u001b[0m: Response: 500 - {\"result\":\"GENERAL\", \"message\":\"Stopped Execution, Found Stop State\", \"details\":\"BODY IS NOT JSON PARSEABLE \"}"
     ]
    }
   ],
   "source": [
    "ok_request, res_request = client.request(method=\"GET\", name=\"RestaurantsAPI\", version=1)"
   ]
  },
  {
   "cell_type": "code",
   "execution_count": 9,
   "metadata": {},
   "outputs": [
    {
     "ename": "NameError",
     "evalue": "name 'ok_request' is not defined",
     "output_type": "error",
     "traceback": [
      "\u001b[1;31m---------------------------------------------------------------------------\u001b[0m",
      "\u001b[1;31mNameError\u001b[0m                                 Traceback (most recent call last)",
      "\u001b[1;32m<ipython-input-9-d8a9c25d036a>\u001b[0m in \u001b[0;36m<module>\u001b[1;34m\u001b[0m\n\u001b[1;32m----> 1\u001b[1;33m \u001b[0mprint\u001b[0m\u001b[1;33m(\u001b[0m\u001b[1;34m\"API request: {}\"\u001b[0m\u001b[1;33m.\u001b[0m\u001b[0mformat\u001b[0m\u001b[1;33m(\u001b[0m\u001b[0mok_request\u001b[0m\u001b[1;33m)\u001b[0m\u001b[1;33m)\u001b[0m\u001b[1;33m\u001b[0m\u001b[1;33m\u001b[0m\u001b[0m\n\u001b[0m\u001b[0;32m      2\u001b[0m \u001b[0mprint\u001b[0m\u001b[1;33m(\u001b[0m\u001b[1;34m\"Api request:\"\u001b[0m\u001b[1;33m)\u001b[0m\u001b[1;33m\u001b[0m\u001b[1;33m\u001b[0m\u001b[0m\n\u001b[0;32m      3\u001b[0m \u001b[0mprint\u001b[0m\u001b[1;33m(\u001b[0m\u001b[0mres_request\u001b[0m\u001b[1;33m)\u001b[0m\u001b[1;33m\u001b[0m\u001b[1;33m\u001b[0m\u001b[0m\n",
      "\u001b[1;31mNameError\u001b[0m: name 'ok_request' is not defined"
     ]
    }
   ],
   "source": [
    "print(\"API request: {}\".format(ok_request))\n",
    "print(\"Api request:\")\n",
    "print(res_request)"
   ]
  },
  {
   "cell_type": "code",
   "execution_count": null,
   "metadata": {},
   "outputs": [],
   "source": []
  }
 ],
 "metadata": {
  "kernelspec": {
   "display_name": "Python 3",
   "language": "python",
   "name": "python3"
  },
  "language_info": {
   "codemirror_mode": {
    "name": "ipython",
    "version": 3
   },
   "file_extension": ".py",
   "mimetype": "text/x-python",
   "name": "python",
   "nbconvert_exporter": "python",
   "pygments_lexer": "ipython3",
   "version": "3.7.1"
  }
 },
 "nbformat": 4,
 "nbformat_minor": 2
}
